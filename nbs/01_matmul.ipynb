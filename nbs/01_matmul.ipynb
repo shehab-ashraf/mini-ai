{
 "cells": [
  {
   "cell_type": "markdown",
   "id": "97dc9b7e-2cb3-43af-b376-32a9348e4349",
   "metadata": {},
   "source": [
    "# Matrix multiplication from foundations"
   ]
  },
  {
   "cell_type": "code",
   "execution_count": 184,
   "id": "9354df92-22b4-4908-aa4c-3e6160e97a52",
   "metadata": {},
   "outputs": [],
   "source": [
    "from pathlib import Path\n",
    "import pickle, gzip, math, os, time, shutil, matplotlib as mpl, matplotlib.pyplot as plt\n",
    "import warnings\n",
    "warnings.simplefilter('ignore')\n",
    "plt.rc('figure', figsize=(3, 3))"
   ]
  },
  {
   "cell_type": "markdown",
   "id": "3f02a8b3-3206-4684-a9b4-ec4be0c44650",
   "metadata": {
    "jp-MarkdownHeadingCollapsed": true
   },
   "source": [
    "### Get data"
   ]
  },
  {
   "cell_type": "code",
   "execution_count": 185,
   "id": "21fcf32c-d412-4219-bfcc-8f01d9fd615c",
   "metadata": {},
   "outputs": [],
   "source": [
    "MNIST_URL='https://github.com/mnielsen/neural-networks-and-deep-learning/blob/master/data/mnist.pkl.gz?raw=true'\n",
    "path_data = Path('data')\n",
    "path_data.mkdir(exist_ok=True)\n",
    "path_gz = path_data/'mnist.pkl.gz'"
   ]
  },
  {
   "cell_type": "code",
   "execution_count": 186,
   "id": "11ca685c-b215-495a-8ae0-ed5274c31a33",
   "metadata": {},
   "outputs": [],
   "source": [
    "from urllib.request import urlretrieve\n",
    "if not path_gz.exists(): urlretrieve(MNIST_URL, path_gz)"
   ]
  },
  {
   "cell_type": "code",
   "execution_count": 187,
   "id": "53c9fee6-d292-4f91-bdb3-102a0ebd5430",
   "metadata": {},
   "outputs": [],
   "source": [
    "with gzip.open(path_gz, 'rb') as f: ((x_train, y_train), (x_valid, y_valid), _) = pickle.load(f, encoding='latin-1')"
   ]
  },
  {
   "cell_type": "code",
   "execution_count": 188,
   "id": "e4c7ad86-d25b-4a0f-af03-fcdef73e834c",
   "metadata": {},
   "outputs": [
    {
     "data": {
      "text/plain": [
       "[0.0,\n",
       " 0.0,\n",
       " 0.0,\n",
       " 0.19140625,\n",
       " 0.9296875,\n",
       " 0.98828125,\n",
       " 0.98828125,\n",
       " 0.98828125,\n",
       " 0.98828125,\n",
       " 0.98828125]"
      ]
     },
     "execution_count": 188,
     "metadata": {},
     "output_type": "execute_result"
    }
   ],
   "source": [
    "lst1 = list(x_train[0])\n",
    "vals = lst1[200:210]\n",
    "vals"
   ]
  },
  {
   "cell_type": "code",
   "execution_count": 189,
   "id": "58340477-bf58-4b57-bf86-47808c79ecd6",
   "metadata": {},
   "outputs": [],
   "source": [
    "def chunks(x, sz): \n",
    "    for i in range(0, len(x), sz): yield x[i:i+sz]\n",
    "# yiled : it kind of like returns a bit and then it continues, and it returns a bit more"
   ]
  },
  {
   "cell_type": "code",
   "execution_count": 190,
   "id": "f1ab1b42-6e06-447b-9509-96a929c476bd",
   "metadata": {},
   "outputs": [
    {
     "data": {
      "text/plain": [
       "[[0.0, 0.0, 0.0, 0.19140625, 0.9296875],\n",
       " [0.98828125, 0.98828125, 0.98828125, 0.98828125, 0.98828125]]"
      ]
     },
     "execution_count": 190,
     "metadata": {},
     "output_type": "execute_result"
    }
   ],
   "source": [
    "list(chunks(vals, 5))"
   ]
  },
  {
   "cell_type": "code",
   "execution_count": 191,
   "id": "b3f915f0-c8d0-471b-b4dc-e50263c37e38",
   "metadata": {},
   "outputs": [
    {
     "data": {
      "image/png": "[encoded data removed]",
      "text/plain": [
       "<Figure size 300x300 with 1 Axes>"
      ]
     },
     "metadata": {},
     "output_type": "display_data"
    }
   ],
   "source": [
    "mpl.rcParams['image.cmap'] = 'gray'\n",
    "plt.imshow(list(chunks(lst1, 28)));"
   ]
  },
  {
   "cell_type": "code",
   "execution_count": 192,
   "id": "8faedee7-b54f-4969-b2ee-207ab78c69f0",
   "metadata": {},
   "outputs": [],
   "source": [
    " from itertools import islice "
   ]
  },
  {
   "cell_type": "code",
   "execution_count": 193,
   "id": "2063b3f6-d5c5-4f6b-ab76-c5c38fdf82e9",
   "metadata": {},
   "outputs": [],
   "source": [
    "it = iter(lst1)\n",
    "def f(): return list(islice(it, 28))"
   ]
  },
  {
   "cell_type": "code",
   "execution_count": 194,
   "id": "f3def671-f57e-4c64-b3ea-b7facb967600",
   "metadata": {},
   "outputs": [],
   "source": [
    "img  = list(iter(f, []))"
   ]
  },
  {
   "cell_type": "code",
   "execution_count": 195,
   "id": "35e1cf39-6a7d-45e9-ad3c-8e9d765ba8dd",
   "metadata": {},
   "outputs": [
    {
     "data": {
      "text/plain": [
       "<matplotlib.image.AxesImage at 0x25a1b8d1f90>"
      ]
     },
     "execution_count": 195,
     "metadata": {},
     "output_type": "execute_result"
    },
    {
     "data": {
      "image/png": "[encoded data removed]",
      "text/plain": [
       "<Figure size 300x300 with 1 Axes>"
      ]
     },
     "metadata": {},
     "output_type": "display_data"
    }
   ],
   "source": [
    "plt.imshow(img)"
   ]
  },
  {
   "cell_type": "markdown",
   "id": "89f721f0-08cd-420f-aeb6-8d4a5ffa0612",
   "metadata": {
    "jp-MarkdownHeadingCollapsed": true
   },
   "source": [
    "### Matrix and tensor"
   ]
  },
  {
   "cell_type": "code",
   "execution_count": 196,
   "id": "67d09a3a-7fd8-4d8f-88ec-bd07345d1d6f",
   "metadata": {},
   "outputs": [
    {
     "data": {
      "text/plain": [
       "0.98828125"
      ]
     },
     "execution_count": 196,
     "metadata": {},
     "output_type": "execute_result"
    }
   ],
   "source": [
    "img[20][15]"
   ]
  },
  {
   "cell_type": "code",
   "execution_count": 197,
   "id": "b664b740-5c72-4a2b-8519-88e80e9e0837",
   "metadata": {},
   "outputs": [],
   "source": [
    "class Matrix:\n",
    "    def __init__(self, xs): self.xs = xs\n",
    "    def __getitem__(self, idxs): return self.xs[idxs[0]][idxs[1]]"
   ]
  },
  {
   "cell_type": "code",
   "execution_count": 198,
   "id": "727f4385-26d1-4b61-b39a-5721be0f6dcd",
   "metadata": {},
   "outputs": [
    {
     "data": {
      "text/plain": [
       "0.98828125"
      ]
     },
     "execution_count": 198,
     "metadata": {},
     "output_type": "execute_result"
    }
   ],
   "source": [
    "m = Matrix(img)\n",
    "m[20,15]"
   ]
  },
  {
   "cell_type": "code",
   "execution_count": 199,
   "id": "9bbceb33-d058-4343-9045-70f3950a1b3a",
   "metadata": {},
   "outputs": [],
   "source": [
    "import torch\n",
    "from torch import tensor"
   ]
  },
  {
   "cell_type": "code",
   "execution_count": 200,
   "id": "196130ea-956e-46fd-9ac4-5024d4d5979e",
   "metadata": {},
   "outputs": [
    {
     "data": {
      "text/plain": [
       "tensor([1, 2, 3])"
      ]
     },
     "execution_count": 200,
     "metadata": {},
     "output_type": "execute_result"
    }
   ],
   "source": [
    "tensor([1,2,3])"
   ]
  },
  {
   "cell_type": "code",
   "execution_count": 201,
   "id": "1f56b27b-5bc7-4b93-8e0b-12c84ecfce4c",
   "metadata": {},
   "outputs": [
    {
     "data": {
      "text/plain": [
       "tensor(0.99)"
      ]
     },
     "execution_count": 201,
     "metadata": {},
     "output_type": "execute_result"
    }
   ],
   "source": [
    "tens = tensor(img)\n",
    "tens[20][15]"
   ]
  },
  {
   "cell_type": "code",
   "execution_count": 202,
   "id": "4779d6d1-f639-47d8-ab36-256b6a418105",
   "metadata": {},
   "outputs": [
    {
     "data": {
      "text/plain": [
       "torch.Size([50000, 784])"
      ]
     },
     "execution_count": 202,
     "metadata": {},
     "output_type": "execute_result"
    }
   ],
   "source": [
    "x_train,y_train,x_valid,y_valid = map(tensor, (x_train,y_train,x_valid,y_valid))\n",
    "x_train.shape"
   ]
  },
  {
   "cell_type": "code",
   "execution_count": 203,
   "id": "6913be7c-640b-42d2-b4cc-da8515ab96f4",
   "metadata": {},
   "outputs": [
    {
     "data": {
      "text/plain": [
       "<function Tensor.type>"
      ]
     },
     "execution_count": 203,
     "metadata": {},
     "output_type": "execute_result"
    }
   ],
   "source": [
    "x_train.type"
   ]
  },
  {
   "cell_type": "code",
   "execution_count": 204,
   "id": "ce09f247-d2cd-44c1-8f33-4b5839471d6a",
   "metadata": {},
   "outputs": [
    {
     "data": {
      "text/plain": [
       "torch.Size([50000, 28, 28])"
      ]
     },
     "execution_count": 204,
     "metadata": {},
     "output_type": "execute_result"
    }
   ],
   "source": [
    "imgs = x_train.reshape((-1, 28, 28))\n",
    "imgs.shape"
   ]
  },
  {
   "cell_type": "code",
   "execution_count": 205,
   "id": "07ff2789-042c-4457-9284-3c2ab18e4a0c",
   "metadata": {},
   "outputs": [
    {
     "data": {
      "text/plain": [
       "<matplotlib.image.AxesImage at 0x25a1b8c1ed0>"
      ]
     },
     "execution_count": 205,
     "metadata": {},
     "output_type": "execute_result"
    },
    {
     "data": {
      "image/png": "[encoded data removed]",
      "text/plain": [
       "<Figure size 300x300 with 1 Axes>"
      ]
     },
     "metadata": {},
     "output_type": "display_data"
    }
   ],
   "source": [
    "plt.imshow(imgs[0])"
   ]
  },
  {
   "cell_type": "code",
   "execution_count": 206,
   "id": "87ecf176-4bb7-46ca-84c9-6ca559a87d9b",
   "metadata": {},
   "outputs": [
    {
     "data": {
      "text/plain": [
       "tensor(0.99)"
      ]
     },
     "execution_count": 206,
     "metadata": {},
     "output_type": "execute_result"
    }
   ],
   "source": [
    "imgs[0,20,15]"
   ]
  },
  {
   "cell_type": "code",
   "execution_count": 207,
   "id": "65adcd7e-6cfd-4b27-8899-b4d42d9bdcb6",
   "metadata": {},
   "outputs": [
    {
     "data": {
      "text/plain": [
       "(tensor([5, 0, 4,  ..., 8, 4, 8]), torch.Size([50000]))"
      ]
     },
     "execution_count": 207,
     "metadata": {},
     "output_type": "execute_result"
    }
   ],
   "source": [
    "n,c = x_train.shape\n",
    "y_train, y_train.shape"
   ]
  },
  {
   "cell_type": "code",
   "execution_count": 208,
   "id": "2fd678a2-48fc-4f05-b9f9-c71422c77742",
   "metadata": {},
   "outputs": [
    {
     "data": {
      "text/plain": [
       "(tensor(0), tensor(9))"
      ]
     },
     "execution_count": 208,
     "metadata": {},
     "output_type": "execute_result"
    }
   ],
   "source": [
    "min(y_train), max(y_train)"
   ]
  },
  {
   "cell_type": "code",
   "execution_count": 209,
   "id": "b5ef3b1a-91aa-4ea8-9105-5ed5d159f040",
   "metadata": {},
   "outputs": [
    {
     "data": {
      "text/plain": [
       "(tensor(0), tensor(9))"
      ]
     },
     "execution_count": 209,
     "metadata": {},
     "output_type": "execute_result"
    }
   ],
   "source": [
    "y_train.min(), y_train.max()"
   ]
  },
  {
   "cell_type": "markdown",
   "id": "5e5b3675-99e1-468d-b786-b4351af2c37a",
   "metadata": {
    "jp-MarkdownHeadingCollapsed": true
   },
   "source": [
    "### Random numbers"
   ]
  },
  {
   "cell_type": "code",
   "execution_count": 210,
   "id": "76d302be-9f56-41d4-b75b-c3d90b578c9c",
   "metadata": {},
   "outputs": [],
   "source": [
    "rnd_state = None\n",
    "def seed(a):\n",
    "    global rnd_state\n",
    "    a, x = divmod(a, 30268)\n",
    "    a, y = divmod(a, 30306)\n",
    "    a, z = divmod(a, 30322)\n",
    "    rnd_state = int(x)+1, int(y)+1, int(z)+1"
   ]
  },
  {
   "cell_type": "code",
   "execution_count": 211,
   "id": "226d1fbe-5450-425f-8115-ffd476160c89",
   "metadata": {},
   "outputs": [
    {
     "data": {
      "text/plain": [
       "(4976, 20238, 499)"
      ]
     },
     "execution_count": 211,
     "metadata": {},
     "output_type": "execute_result"
    }
   ],
   "source": [
    "seed(457428938475)\n",
    "rnd_state"
   ]
  },
  {
   "cell_type": "code",
   "execution_count": 212,
   "id": "bcf2ab43-5242-4388-8d2e-ba03e55e96ac",
   "metadata": {},
   "outputs": [],
   "source": [
    "def rand():\n",
    "    global rnd_state\n",
    "    x, y, z = rnd_state\n",
    "    x = (171 * x) % 30269\n",
    "    y = (172 * y) % 30307\n",
    "    z = (170 * z) % 30323\n",
    "    rnd_state = x,y,z\n",
    "    return (x/30269 + y/30307 + z/30323) % 1.0"
   ]
  },
  {
   "cell_type": "code",
   "execution_count": 213,
   "id": "1edc5a9f-2309-4204-ad71-c3024dcfaa99",
   "metadata": {},
   "outputs": [
    {
     "data": {
      "text/plain": [
       "(0.7645251082582081, 0.7920889799553945, 0.06912886811267205)"
      ]
     },
     "execution_count": 213,
     "metadata": {},
     "output_type": "execute_result"
    }
   ],
   "source": [
    "rand(),rand(),rand()"
   ]
  },
  {
   "cell_type": "code",
   "execution_count": 214,
   "id": "2ce4c3b4-c748-4878-91af-888c4e5f30de",
   "metadata": {},
   "outputs": [
    {
     "data": {
      "image/png": "[encoded data removed]",
      "text/plain": [
       "<Figure size 300x300 with 1 Axes>"
      ]
     },
     "metadata": {},
     "output_type": "display_data"
    }
   ],
   "source": [
    "plt.plot([rand() for _ in range(50)]);"
   ]
  },
  {
   "cell_type": "code",
   "execution_count": 215,
   "id": "7e06745f-6c4a-40f9-84bc-eb5df64caedf",
   "metadata": {},
   "outputs": [
    {
     "data": {
      "image/png": "[encoded data removed]",
      "text/plain": [
       "<Figure size 300x300 with 1 Axes>"
      ]
     },
     "metadata": {},
     "output_type": "display_data"
    }
   ],
   "source": [
    "plt.hist([rand() for _ in range(10000)]);"
   ]
  },
  {
   "cell_type": "code",
   "execution_count": 216,
   "id": "c4097293-021a-4678-aff7-080148825d78",
   "metadata": {},
   "outputs": [
    {
     "name": "stdout",
     "output_type": "stream",
     "text": [
      "4.14 ms ± 339 µs per loop (mean ± std. dev. of 7 runs, 10 loops each)\n"
     ]
    }
   ],
   "source": [
    "%timeit -n 10 list(chunks([rand() for _ in range(7840)], 10))"
   ]
  },
  {
   "cell_type": "code",
   "execution_count": 217,
   "id": "125add7f-45d3-4eb5-847d-c223c75ca538",
   "metadata": {},
   "outputs": [
    {
     "name": "stdout",
     "output_type": "stream",
     "text": [
      "108 µs ± 38.3 µs per loop (mean ± std. dev. of 7 runs, 10 loops each)\n"
     ]
    }
   ],
   "source": [
    "%timeit -n 10 torch.randn(784,10)"
   ]
  },
  {
   "cell_type": "markdown",
   "id": "3fa15c81-dd56-4dda-890b-49e7f9cbcd7d",
   "metadata": {},
   "source": [
    "### Matrix multiplication"
   ]
  },
  {
   "cell_type": "code",
   "execution_count": 218,
   "id": "d133d98a-9527-4d42-bd1d-471db28f24da",
   "metadata": {},
   "outputs": [],
   "source": [
    "torch.manual_seed(1)\n",
    "weights = torch.randn(784,10)\n",
    "bias = torch.zeros(10)"
   ]
  },
  {
   "cell_type": "code",
   "execution_count": 219,
   "id": "930a1fa0-79b4-4d7a-900e-26445dd3f8ff",
   "metadata": {},
   "outputs": [],
   "source": [
    "m1 = x_valid[:5]\n",
    "m2 = weights"
   ]
  },
  {
   "cell_type": "code",
   "execution_count": 220,
   "id": "c839cb2b-47b5-4ea4-8dc9-512a581ee2dd",
   "metadata": {},
   "outputs": [
    {
     "data": {
      "text/plain": [
       "(torch.Size([5, 784]), torch.Size([784, 10]))"
      ]
     },
     "execution_count": 220,
     "metadata": {},
     "output_type": "execute_result"
    }
   ],
   "source": [
    "m1.shape,m2.shape"
   ]
  },
  {
   "cell_type": "code",
   "execution_count": 221,
   "id": "bb7af541-5a27-4f40-94b7-5fa40bf89144",
   "metadata": {},
   "outputs": [
    {
     "data": {
      "text/plain": [
       "((5, 784), (784, 10))"
      ]
     },
     "execution_count": 221,
     "metadata": {},
     "output_type": "execute_result"
    }
   ],
   "source": [
    "ar,ac = m1.shape # n_rows * n_cols\n",
    "br,bc = m2.shape\n",
    "(ar,ac),(br,bc)"
   ]
  },
  {
   "cell_type": "code",
   "execution_count": 222,
   "id": "2b21fbb7-fc66-4406-a46a-96ec6ac0d8b2",
   "metadata": {},
   "outputs": [
    {
     "data": {
      "text/plain": [
       "torch.Size([5, 10])"
      ]
     },
     "execution_count": 222,
     "metadata": {},
     "output_type": "execute_result"
    }
   ],
   "source": [
    "t1 = torch.zeros(ar, bc)\n",
    "t1.shape"
   ]
  },
  {
   "cell_type": "code",
   "execution_count": 223,
   "id": "a580cded-6eff-43cf-9fc2-f70076965222",
   "metadata": {},
   "outputs": [],
   "source": [
    "for i in range(ar):\n",
    "    for j in range(bc):\n",
    "        for k in range(ac):\n",
    "            t1[i, j] += m1[i, k] * m2[k, j]"
   ]
  },
  {
   "cell_type": "code",
   "execution_count": 224,
   "id": "8f9f8266-1559-4ec4-8414-77d6023d5f01",
   "metadata": {},
   "outputs": [
    {
     "data": {
      "text/plain": [
       "tensor([[-10.94,  -0.68,  -7.00,  -4.01,  -2.09,  -3.36,   3.91,  -3.44, -11.47,  -2.12],\n",
       "        [ 14.54,   6.00,   2.89,  -4.08,   6.59, -14.74,  -9.28,   2.16, -15.28,  -2.68],\n",
       "        [  2.22,  -3.22,  -4.80,  -6.05,  14.17,  -8.98,  -4.79,  -5.44, -20.68,  13.57],\n",
       "        [ -6.71,   8.90,  -7.46,  -7.90,   2.70,  -4.73, -11.03, -12.98,  -6.44,   3.64],\n",
       "        [ -2.44,  -6.40,  -2.40,  -9.04,  11.18,  -5.77,  -8.92,  -3.79,  -8.98,   5.28]])"
      ]
     },
     "execution_count": 224,
     "metadata": {},
     "output_type": "execute_result"
    }
   ],
   "source": [
    "t1"
   ]
  },
  {
   "cell_type": "code",
   "execution_count": 225,
   "id": "66e8ee08-5da7-4cb8-8704-cb8d309689f2",
   "metadata": {},
   "outputs": [
    {
     "data": {
      "text/plain": [
       "torch.Size([5, 10])"
      ]
     },
     "execution_count": 225,
     "metadata": {},
     "output_type": "execute_result"
    }
   ],
   "source": [
    "t1.shape"
   ]
  },
  {
   "cell_type": "code",
   "execution_count": 226,
   "id": "c5af285b-dcbc-4401-a886-f4e0e4a2e1be",
   "metadata": {},
   "outputs": [
    {
     "data": {
      "text/plain": [
       "tensor([[-10.94,  -0.68,  -7.00,  -4.01,  -2.09,  -3.36,   3.91,  -3.44, -11.47,  -2.12],\n",
       "        [ 14.54,   6.00,   2.89,  -4.08,   6.59, -14.74,  -9.28,   2.16, -15.28,  -2.68],\n",
       "        [  2.22,  -3.22,  -4.80,  -6.05,  14.17,  -8.98,  -4.79,  -5.44, -20.68,  13.57],\n",
       "        [ -6.71,   8.90,  -7.46,  -7.90,   2.70,  -4.73, -11.03, -12.98,  -6.44,   3.64],\n",
       "        [ -2.44,  -6.40,  -2.40,  -9.04,  11.18,  -5.77,  -8.92,  -3.79,  -8.98,   5.28]])"
      ]
     },
     "execution_count": 226,
     "metadata": {},
     "output_type": "execute_result"
    }
   ],
   "source": [
    "torch.set_printoptions(precision=2, linewidth=140, sci_mode=False)\n",
    "t1"
   ]
  },
  {
   "cell_type": "code",
   "execution_count": 227,
   "id": "eee79722-1421-4fba-b40c-e897b08a0092",
   "metadata": {},
   "outputs": [],
   "source": [
    "import numpy as np\n",
    "np.set_printoptions(precision=2, linewidth=140)"
   ]
  },
  {
   "cell_type": "code",
   "execution_count": 228,
   "id": "fb7d0f03-8bf5-4f1e-94f1-37031347bc78",
   "metadata": {},
   "outputs": [],
   "source": [
    "def matmul(a,b):\n",
    "    (ar,ac),(br,bc) = a.shape,b.shape\n",
    "    c = torch.zeros(ar, bc)\n",
    "    for i in range(ar):\n",
    "        for j in range(bc):\n",
    "            for k in range(ac): c[i,j] += a[i,k] * b[k,j]\n",
    "    return c"
   ]
  },
  {
   "cell_type": "code",
   "execution_count": 229,
   "id": "7b9bf05e-c243-4b82-bf82-0524d834e4be",
   "metadata": {},
   "outputs": [
    {
     "name": "stdout",
     "output_type": "stream",
     "text": [
      "CPU times: total: 969 ms\n",
      "Wall time: 1.06 s\n"
     ]
    }
   ],
   "source": [
    "%time _=matmul(m1, m2)"
   ]
  },
  {
   "cell_type": "markdown",
   "id": "47fbc5f1-f0f2-4535-a36c-621047d480a0",
   "metadata": {},
   "source": [
    "### Numba"
   ]
  },
  {
   "cell_type": "code",
   "execution_count": 230,
   "id": "2e7214f1-ee07-4c33-8026-9bdbe715e22d",
   "metadata": {},
   "outputs": [],
   "source": [
    "from numba import njit"
   ]
  },
  {
   "cell_type": "code",
   "execution_count": 231,
   "id": "72d51f5f-8c75-43f8-92e6-ac8a470721bd",
   "metadata": {},
   "outputs": [],
   "source": [
    "@njit\n",
    "def dot(a, b):\n",
    "    res = 0.\n",
    "    for i in range(len(a)): res+=a[i]*b[i]\n",
    "    return res"
   ]
  },
  {
   "cell_type": "code",
   "execution_count": 232,
   "id": "178b69bc-0cc5-4cdb-993d-ee133ae845c8",
   "metadata": {},
   "outputs": [],
   "source": [
    "from numpy import array"
   ]
  },
  {
   "cell_type": "code",
   "execution_count": 233,
   "id": "1b600615-e293-4abb-9c44-c4318c830282",
   "metadata": {},
   "outputs": [
    {
     "name": "stdout",
     "output_type": "stream",
     "text": [
      "CPU times: total: 46.9 ms\n",
      "Wall time: 96.7 ms\n"
     ]
    },
    {
     "data": {
      "text/plain": [
       "20.0"
      ]
     },
     "execution_count": 233,
     "metadata": {},
     "output_type": "execute_result"
    }
   ],
   "source": [
    "%time dot(array([1., 2, 3]), array([2., 3, 4]))"
   ]
  },
  {
   "cell_type": "markdown",
   "id": "f8018209-f2a1-48fd-a2cc-1ec5a9c7eee1",
   "metadata": {},
   "source": [
    "Now only two of our loops are running in Python, not three:"
   ]
  },
  {
   "cell_type": "code",
   "execution_count": 234,
   "id": "6d62d5ab-2402-4a43-a4a4-f90f04c1e0d5",
   "metadata": {},
   "outputs": [],
   "source": [
    "def matmul(a,b):\n",
    "    (ar,ac),(br,bc) = a.shape,b.shape\n",
    "    c = torch.zeros(ar, bc)\n",
    "    for i in range(ar):\n",
    "        for j in range(bc):\n",
    "            # for k in range(ac): c[i,j] += a[i,k] * b[k,j]\n",
    "            c[i, j] = dot(a[i, :], b[:, j])\n",
    "    return c"
   ]
  },
  {
   "cell_type": "code",
   "execution_count": 235,
   "id": "56ee2c31-712e-45db-8194-443c5db4514b",
   "metadata": {},
   "outputs": [],
   "source": [
    "m1a,m2a = m1.numpy(),m2.numpy()"
   ]
  },
  {
   "cell_type": "code",
   "execution_count": 236,
   "id": "4bd3f023-abf5-461c-8fa4-03a503ef225d",
   "metadata": {},
   "outputs": [
    {
     "name": "stdout",
     "output_type": "stream",
     "text": [
      "CPU times: total: 31.2 ms\n",
      "Wall time: 110 ms\n"
     ]
    }
   ],
   "source": [
    "%time _=matmul(m1a, m2a)"
   ]
  },
  {
   "cell_type": "markdown",
   "id": "ec74adb7-ae96-45e0-be7e-9cb07b059a49",
   "metadata": {},
   "source": [
    "### Elementwise ops"
   ]
  },
  {
   "cell_type": "code",
   "execution_count": 237,
   "id": "13fb7298-3289-4ded-ac44-40c9c2bbf0ce",
   "metadata": {},
   "outputs": [
    {
     "data": {
      "text/plain": [
       "(tensor([10.,  6., -4.]), tensor([2., 8., 7.]))"
      ]
     },
     "execution_count": 237,
     "metadata": {},
     "output_type": "execute_result"
    }
   ],
   "source": [
    "a = tensor([10., 6, -4])\n",
    "b = tensor([2., 8, 7])\n",
    "a,b"
   ]
  },
  {
   "cell_type": "code",
   "execution_count": 238,
   "id": "97b4eca7-f3b2-4e0b-89f2-5f2cf0c0bd31",
   "metadata": {},
   "outputs": [
    {
     "data": {
      "text/plain": [
       "tensor([12., 14.,  3.])"
      ]
     },
     "execution_count": 238,
     "metadata": {},
     "output_type": "execute_result"
    }
   ],
   "source": [
    "a + b"
   ]
  },
  {
   "cell_type": "code",
   "execution_count": 239,
   "id": "ea23c72d-ada9-4ac8-b6c3-d0247ac8d01e",
   "metadata": {},
   "outputs": [
    {
     "data": {
      "text/plain": [
       "tensor(0.67)"
      ]
     },
     "execution_count": 239,
     "metadata": {},
     "output_type": "execute_result"
    }
   ],
   "source": [
    "(a < b).float().mean()"
   ]
  },
  {
   "cell_type": "code",
   "execution_count": 240,
   "id": "68cdfb5a-14ba-4696-9392-886b2977dd25",
   "metadata": {},
   "outputs": [
    {
     "data": {
      "text/plain": [
       "tensor([[1., 2., 3.],\n",
       "        [4., 5., 6.],\n",
       "        [7., 8., 9.]])"
      ]
     },
     "execution_count": 240,
     "metadata": {},
     "output_type": "execute_result"
    }
   ],
   "source": [
    "m = tensor([[1., 2, 3], [4,5,6], [7,8,9]]); m"
   ]
  },
  {
   "cell_type": "code",
   "execution_count": 241,
   "id": "ea6c3e83-2934-4ccc-ba6d-22e3579ee065",
   "metadata": {},
   "outputs": [
    {
     "data": {
      "text/plain": [
       "tensor(16.88)"
      ]
     },
     "execution_count": 241,
     "metadata": {},
     "output_type": "execute_result"
    }
   ],
   "source": [
    "# Frobenius norm\n",
    "sf = (m*m).sum()\n",
    "sf.sqrt()"
   ]
  },
  {
   "cell_type": "code",
   "execution_count": 242,
   "id": "234fdf2c-e39c-4aed-801d-a68c55d08b41",
   "metadata": {},
   "outputs": [
    {
     "data": {
      "text/plain": [
       "(tensor([7., 8., 9.]), tensor([3., 6., 9.]))"
      ]
     },
     "execution_count": 242,
     "metadata": {},
     "output_type": "execute_result"
    }
   ],
   "source": [
    "m[2,:],m[:,2]"
   ]
  },
  {
   "cell_type": "code",
   "execution_count": 243,
   "id": "0c3f75bb-afbc-4c41-a15e-2a5c5ebe9882",
   "metadata": {},
   "outputs": [
    {
     "data": {
      "text/plain": [
       "tensor([7., 8., 9.])"
      ]
     },
     "execution_count": 243,
     "metadata": {},
     "output_type": "execute_result"
    }
   ],
   "source": [
    "m[2]"
   ]
  },
  {
   "cell_type": "code",
   "execution_count": 244,
   "id": "45c76433-e8ed-4bee-b8f7-0dd269fdfc53",
   "metadata": {},
   "outputs": [],
   "source": [
    "def matmul(a,b):\n",
    "    (ar,ac),(br,bc) = a.shape,b.shape\n",
    "    c = torch.zeros(ar, bc)\n",
    "    for i in range(ar):\n",
    "        for j in range(bc): c[i,j] = (a[i,:] * b[:,j]).sum()\n",
    "    return c"
   ]
  },
  {
   "cell_type": "code",
   "execution_count": 245,
   "id": "9023cfdd-a527-468e-ad1c-10468382bff9",
   "metadata": {},
   "outputs": [
    {
     "name": "stdout",
     "output_type": "stream",
     "text": [
      "1.76 ms ± 206 µs per loop (mean ± std. dev. of 7 runs, 50 loops each)\n"
     ]
    }
   ],
   "source": [
    "%timeit -n 50 _=matmul(m1, m2)"
   ]
  },
  {
   "cell_type": "code",
   "execution_count": 246,
   "id": "5f98668d-9976-4aea-b786-00c0a89b12ab",
   "metadata": {},
   "outputs": [],
   "source": [
    "def matmul(a,b):\n",
    "    (ar,ac),(br,bc) = a.shape,b.shape\n",
    "    c = torch.zeros(ar, bc)\n",
    "    for i in range(ar):\n",
    "        for j in range(bc): c[i,j] = torch.dot(a[i,:], b[:,j])\n",
    "    return c"
   ]
  },
  {
   "cell_type": "code",
   "execution_count": 247,
   "id": "1c136616-944e-4cd5-9b0e-d168e95bbed0",
   "metadata": {},
   "outputs": [
    {
     "name": "stdout",
     "output_type": "stream",
     "text": [
      "1.36 ms ± 120 µs per loop (mean ± std. dev. of 7 runs, 50 loops each)\n"
     ]
    }
   ],
   "source": [
    "%timeit -n 50 _=matmul(m1, m2)"
   ]
  },
  {
   "cell_type": "markdown",
   "id": "e132d958-3907-4cb0-b755-10a527dbe107",
   "metadata": {},
   "source": [
    "### Broadcasting"
   ]
  },
  {
   "cell_type": "markdown",
   "id": "d0d8724a-7145-4495-87e0-dca70deae826",
   "metadata": {},
   "source": [
    "The term broadcasting describes how numpy treats arrays with \r\n",
    "different shapes during arithmetic operations., the smaller array is “broadcast” across the larger \r\n",
    "array so that they have compatible shapes. Broadcasting provides a \r\n",
    "means of vectorizing array operations so that looping occurs in C\r\n",
    "instead of Python. It does this without making needless copies of \r\n",
    "data and usually leads to efficient algorithm implementations.tions."
   ]
  },
  {
   "cell_type": "markdown",
   "id": "a519c101-4b81-44bb-b9bb-27a832e362fb",
   "metadata": {},
   "source": [
    "#### Broadcasting with a scalar"
   ]
  },
  {
   "cell_type": "code",
   "execution_count": 248,
   "id": "7ec57645-2e12-4bf0-b0d3-8c4f08db3bf3",
   "metadata": {},
   "outputs": [
    {
     "data": {
      "text/plain": [
       "tensor([10.,  6., -4.])"
      ]
     },
     "execution_count": 248,
     "metadata": {},
     "output_type": "execute_result"
    }
   ],
   "source": [
    "a"
   ]
  },
  {
   "cell_type": "code",
   "execution_count": 249,
   "id": "f0e28b50-c9d0-42b6-8ac3-d637cccb00b2",
   "metadata": {},
   "outputs": [
    {
     "data": {
      "text/plain": [
       "tensor([ True,  True, False])"
      ]
     },
     "execution_count": 249,
     "metadata": {},
     "output_type": "execute_result"
    }
   ],
   "source": [
    "a > 0 "
   ]
  },
  {
   "cell_type": "code",
   "execution_count": 250,
   "id": "ddd2bac9-c3a1-4e4a-8216-e98d9a6d6b46",
   "metadata": {},
   "outputs": [
    {
     "data": {
      "text/plain": [
       "tensor([11.,  7., -3.])"
      ]
     },
     "execution_count": 250,
     "metadata": {},
     "output_type": "execute_result"
    }
   ],
   "source": [
    "a + 1"
   ]
  },
  {
   "cell_type": "code",
   "execution_count": 251,
   "id": "a2244f24-301b-4c84-9875-b9d6f1cc4fa4",
   "metadata": {},
   "outputs": [
    {
     "data": {
      "text/plain": [
       "tensor([[1., 2., 3.],\n",
       "        [4., 5., 6.],\n",
       "        [7., 8., 9.]])"
      ]
     },
     "execution_count": 251,
     "metadata": {},
     "output_type": "execute_result"
    }
   ],
   "source": [
    "m"
   ]
  },
  {
   "cell_type": "code",
   "execution_count": 252,
   "id": "c8a9594f-0b23-415d-99e0-42c019f2aa29",
   "metadata": {},
   "outputs": [
    {
     "data": {
      "text/plain": [
       "tensor([[ 2.,  4.,  6.],\n",
       "        [ 8., 10., 12.],\n",
       "        [14., 16., 18.]])"
      ]
     },
     "execution_count": 252,
     "metadata": {},
     "output_type": "execute_result"
    }
   ],
   "source": [
    "2*m"
   ]
  },
  {
   "cell_type": "markdown",
   "id": "168b3cb4-46be-4ad1-9c11-c9f015ccf285",
   "metadata": {},
   "source": [
    "#### Broadcasting a vector to a matrix"
   ]
  },
  {
   "cell_type": "code",
   "execution_count": 253,
   "id": "cc835bbd-ce75-489e-8c52-030364c4310b",
   "metadata": {},
   "outputs": [
    {
     "data": {
      "text/plain": [
       "tensor([10., 20., 30.])"
      ]
     },
     "execution_count": 253,
     "metadata": {},
     "output_type": "execute_result"
    }
   ],
   "source": [
    "c = tensor([10.,20,30]); c"
   ]
  },
  {
   "cell_type": "code",
   "execution_count": 254,
   "id": "2e482352-9e6e-4d3d-b6d1-e9c8259905f8",
   "metadata": {},
   "outputs": [
    {
     "data": {
      "text/plain": [
       "tensor([[1., 2., 3.],\n",
       "        [4., 5., 6.],\n",
       "        [7., 8., 9.]])"
      ]
     },
     "execution_count": 254,
     "metadata": {},
     "output_type": "execute_result"
    }
   ],
   "source": [
    "m"
   ]
  },
  {
   "cell_type": "code",
   "execution_count": 255,
   "id": "284253a6-ff92-4270-a200-2804694d3bf6",
   "metadata": {},
   "outputs": [
    {
     "data": {
      "text/plain": [
       "(torch.Size([3, 3]), torch.Size([3]))"
      ]
     },
     "execution_count": 255,
     "metadata": {},
     "output_type": "execute_result"
    }
   ],
   "source": [
    "m.shape,c.shape"
   ]
  },
  {
   "cell_type": "code",
   "execution_count": 256,
   "id": "edcbdca2-7e2f-4776-825d-ebdc45373420",
   "metadata": {},
   "outputs": [
    {
     "data": {
      "text/plain": [
       "tensor([[11., 22., 33.],\n",
       "        [14., 25., 36.],\n",
       "        [17., 28., 39.]])"
      ]
     },
     "execution_count": 256,
     "metadata": {},
     "output_type": "execute_result"
    }
   ],
   "source": [
    "m + c"
   ]
  },
  {
   "cell_type": "code",
   "execution_count": 257,
   "id": "9c7da83f-87e4-4f28-b695-664ec7bdc664",
   "metadata": {},
   "outputs": [
    {
     "data": {
      "text/plain": [
       "tensor([[11., 22., 33.],\n",
       "        [14., 25., 36.],\n",
       "        [17., 28., 39.]])"
      ]
     },
     "execution_count": 257,
     "metadata": {},
     "output_type": "execute_result"
    }
   ],
   "source": [
    "c + m"
   ]
  },
  {
   "cell_type": "code",
   "execution_count": 258,
   "id": "7d613cc0-d15d-487e-868e-c20d123d9c64",
   "metadata": {},
   "outputs": [
    {
     "data": {
      "text/plain": [
       "tensor([[10., 20., 30.],\n",
       "        [10., 20., 30.],\n",
       "        [10., 20., 30.]])"
      ]
     },
     "execution_count": 258,
     "metadata": {},
     "output_type": "execute_result"
    }
   ],
   "source": [
    "t = c.expand_as(m)\n",
    "t"
   ]
  },
  {
   "cell_type": "code",
   "execution_count": 259,
   "id": "d8a29bae-290e-4763-96d5-f3b72181f96e",
   "metadata": {},
   "outputs": [
    {
     "data": {
      "text/plain": [
       "tensor([[11., 22., 33.],\n",
       "        [14., 25., 36.],\n",
       "        [17., 28., 39.]])"
      ]
     },
     "execution_count": 259,
     "metadata": {},
     "output_type": "execute_result"
    }
   ],
   "source": [
    "m + t"
   ]
  },
  {
   "cell_type": "code",
   "execution_count": 260,
   "id": "f130dbd7-9e39-4e57-81b9-eae91b07df70",
   "metadata": {},
   "outputs": [
    {
     "data": {
      "text/plain": [
       " 10.0\n",
       " 20.0\n",
       " 30.0\n",
       "[torch.storage.TypedStorage(dtype=torch.float32, device=cpu) of size 3]"
      ]
     },
     "execution_count": 260,
     "metadata": {},
     "output_type": "execute_result"
    }
   ],
   "source": [
    "t.storage()"
   ]
  },
  {
   "cell_type": "code",
   "execution_count": 261,
   "id": "45810700-7568-425d-86e6-9cf3ae33dade",
   "metadata": {},
   "outputs": [
    {
     "data": {
      "text/plain": [
       "((0, 1), torch.Size([3, 3]))"
      ]
     },
     "execution_count": 261,
     "metadata": {},
     "output_type": "execute_result"
    }
   ],
   "source": [
    "t.stride(), t.shape"
   ]
  },
  {
   "cell_type": "code",
   "execution_count": 262,
   "id": "10f75ac0-5231-4e02-86a9-1e12cc35c896",
   "metadata": {},
   "outputs": [
    {
     "data": {
      "text/plain": [
       "(tensor([[10., 20., 30.]]), tensor([[10., 20., 30.]]))"
      ]
     },
     "execution_count": 262,
     "metadata": {},
     "output_type": "execute_result"
    }
   ],
   "source": [
    "c.unsqueeze(0), c[None, :]"
   ]
  },
  {
   "cell_type": "code",
   "execution_count": 263,
   "id": "d627b7f2-7c92-46a0-9495-857603d23aff",
   "metadata": {},
   "outputs": [
    {
     "data": {
      "text/plain": [
       "(torch.Size([3]), torch.Size([1, 3]))"
      ]
     },
     "execution_count": 263,
     "metadata": {},
     "output_type": "execute_result"
    }
   ],
   "source": [
    "c.shape, c.unsqueeze(0).shape"
   ]
  },
  {
   "cell_type": "code",
   "execution_count": 264,
   "id": "ebf5e9e9-2557-4ebd-bfcc-7acf3e1b3a4b",
   "metadata": {},
   "outputs": [
    {
     "data": {
      "text/plain": [
       "(tensor([[10.],\n",
       "         [20.],\n",
       "         [30.]]),\n",
       " tensor([[10.],\n",
       "         [20.],\n",
       "         [30.]]))"
      ]
     },
     "execution_count": 264,
     "metadata": {},
     "output_type": "execute_result"
    }
   ],
   "source": [
    "c.unsqueeze(1), c[:, None]"
   ]
  },
  {
   "cell_type": "code",
   "execution_count": 265,
   "id": "12df842d-01d9-48a7-b9c2-af110f60dc2d",
   "metadata": {},
   "outputs": [
    {
     "data": {
      "text/plain": [
       "(torch.Size([3]), torch.Size([3, 1]))"
      ]
     },
     "execution_count": 265,
     "metadata": {},
     "output_type": "execute_result"
    }
   ],
   "source": [
    "c.shape, c.unsqueeze(1).shape"
   ]
  },
  {
   "cell_type": "code",
   "execution_count": 266,
   "id": "7ae4dbf7-1270-49bf-a096-1012a75bead6",
   "metadata": {},
   "outputs": [
    {
     "data": {
      "text/plain": [
       "(torch.Size([1, 3]), torch.Size([3, 1]))"
      ]
     },
     "execution_count": 266,
     "metadata": {},
     "output_type": "execute_result"
    }
   ],
   "source": [
    "c[None].shape,c[...,None].shape"
   ]
  },
  {
   "cell_type": "code",
   "execution_count": 267,
   "id": "368943ba-676f-4fd3-b968-bd2667df6f3e",
   "metadata": {},
   "outputs": [
    {
     "data": {
      "text/plain": [
       "tensor([[10., 10., 10.],\n",
       "        [20., 20., 20.],\n",
       "        [30., 30., 30.]])"
      ]
     },
     "execution_count": 267,
     "metadata": {},
     "output_type": "execute_result"
    }
   ],
   "source": [
    "c[:,None].expand_as(m)"
   ]
  },
  {
   "cell_type": "code",
   "execution_count": 268,
   "id": "7d8b8180-bb85-4a3f-bd08-c0ba6f909ef7",
   "metadata": {},
   "outputs": [
    {
     "data": {
      "text/plain": [
       "tensor([[11., 12., 13.],\n",
       "        [24., 25., 26.],\n",
       "        [37., 38., 39.]])"
      ]
     },
     "execution_count": 268,
     "metadata": {},
     "output_type": "execute_result"
    }
   ],
   "source": [
    "m + c[:,None]"
   ]
  },
  {
   "cell_type": "code",
   "execution_count": 269,
   "id": "67300935-a475-4316-b9d3-5e8c5659c36c",
   "metadata": {},
   "outputs": [
    {
     "data": {
      "text/plain": [
       "tensor([[11., 22., 33.],\n",
       "        [14., 25., 36.],\n",
       "        [17., 28., 39.]])"
      ]
     },
     "execution_count": 269,
     "metadata": {},
     "output_type": "execute_result"
    }
   ],
   "source": [
    "m + c[None,:]"
   ]
  },
  {
   "cell_type": "markdown",
   "id": "3528c40b-7d5a-4d07-b4ee-23807a2268f6",
   "metadata": {},
   "source": [
    "#### Broadcasting Rules"
   ]
  },
  {
   "cell_type": "code",
   "execution_count": 270,
   "id": "30ed568e-d660-4a29-97cd-d70919e2408a",
   "metadata": {},
   "outputs": [
    {
     "data": {
      "text/plain": [
       "tensor([[10., 20., 30.]])"
      ]
     },
     "execution_count": 270,
     "metadata": {},
     "output_type": "execute_result"
    }
   ],
   "source": [
    "c[None,:]"
   ]
  },
  {
   "cell_type": "code",
   "execution_count": 271,
   "id": "3e98a502-3ebf-4464-8e5b-ab7f213801ee",
   "metadata": {},
   "outputs": [
    {
     "data": {
      "text/plain": [
       "torch.Size([1, 3])"
      ]
     },
     "execution_count": 271,
     "metadata": {},
     "output_type": "execute_result"
    }
   ],
   "source": [
    "c[None,:].shape"
   ]
  },
  {
   "cell_type": "code",
   "execution_count": 272,
   "id": "d05fec2e-76cb-4a75-b654-862961ff35a1",
   "metadata": {},
   "outputs": [
    {
     "data": {
      "text/plain": [
       "tensor([[10.],\n",
       "        [20.],\n",
       "        [30.]])"
      ]
     },
     "execution_count": 272,
     "metadata": {},
     "output_type": "execute_result"
    }
   ],
   "source": [
    "c[:,None]"
   ]
  },
  {
   "cell_type": "code",
   "execution_count": 273,
   "id": "6d2290ee-7b16-44b5-86a7-35c9824321a4",
   "metadata": {},
   "outputs": [
    {
     "data": {
      "text/plain": [
       "torch.Size([3, 1])"
      ]
     },
     "execution_count": 273,
     "metadata": {},
     "output_type": "execute_result"
    }
   ],
   "source": [
    "c[:,None].shape"
   ]
  },
  {
   "cell_type": "code",
   "execution_count": 274,
   "id": "7faff780-10bc-4a84-8f76-e29110734c08",
   "metadata": {},
   "outputs": [
    {
     "data": {
      "text/plain": [
       "tensor([[100., 200., 300.],\n",
       "        [200., 400., 600.],\n",
       "        [300., 600., 900.]])"
      ]
     },
     "execution_count": 274,
     "metadata": {},
     "output_type": "execute_result"
    }
   ],
   "source": [
    "c[None,:] * c[:,None]"
   ]
  },
  {
   "cell_type": "code",
   "execution_count": 275,
   "id": "c2416f58-a3cf-492e-81f2-553ba1814401",
   "metadata": {},
   "outputs": [
    {
     "data": {
      "text/plain": [
       "tensor([[False,  True,  True],\n",
       "        [False, False,  True],\n",
       "        [False, False, False]])"
      ]
     },
     "execution_count": 275,
     "metadata": {},
     "output_type": "execute_result"
    }
   ],
   "source": [
    "c[None] > c[:,None]"
   ]
  },
  {
   "cell_type": "markdown",
   "id": "dbaa9b66-6447-4408-8011-ba4b37dfd0d5",
   "metadata": {},
   "source": [
    "### Matmul with broadcasting"
   ]
  },
  {
   "cell_type": "code",
   "execution_count": 276,
   "id": "e2d52d31-6acb-44fa-bc18-7b565ead5a0a",
   "metadata": {},
   "outputs": [
    {
     "data": {
      "text/plain": [
       "(torch.Size([784]), torch.Size([784, 10]))"
      ]
     },
     "execution_count": 276,
     "metadata": {},
     "output_type": "execute_result"
    }
   ],
   "source": [
    "digit = m1[0]\n",
    "digit.shape,m2.shape"
   ]
  },
  {
   "cell_type": "code",
   "execution_count": 277,
   "id": "e0a9dbbc-3169-4bbb-88af-ccc894d25b7c",
   "metadata": {},
   "outputs": [
    {
     "data": {
      "text/plain": [
       "torch.Size([784, 1])"
      ]
     },
     "execution_count": 277,
     "metadata": {},
     "output_type": "execute_result"
    }
   ],
   "source": [
    "digit[:,None].shape"
   ]
  },
  {
   "cell_type": "code",
   "execution_count": 278,
   "id": "7eac7393-ec0a-48fb-8d22-b316e134847b",
   "metadata": {},
   "outputs": [
    {
     "data": {
      "text/plain": [
       "torch.Size([784, 10])"
      ]
     },
     "execution_count": 278,
     "metadata": {},
     "output_type": "execute_result"
    }
   ],
   "source": [
    "digit[:,None].expand_as(m2).shape"
   ]
  },
  {
   "cell_type": "code",
   "execution_count": 279,
   "id": "a0d71ec9-1094-45dc-b20d-7478faeecb66",
   "metadata": {},
   "outputs": [
    {
     "data": {
      "text/plain": [
       "torch.Size([784, 10])"
      ]
     },
     "execution_count": 279,
     "metadata": {},
     "output_type": "execute_result"
    }
   ],
   "source": [
    "(digit[:,None]*m2).shape"
   ]
  },
  {
   "cell_type": "code",
   "execution_count": 280,
   "id": "695b46dd-c09c-4d47-8053-173932c8f792",
   "metadata": {},
   "outputs": [],
   "source": [
    "def matmul(a,b):\n",
    "    (ar,ac),(br,bc) = a.shape,b.shape\n",
    "    c = torch.zeros(ar, bc)\n",
    "    for i in range(ar):\n",
    "        #for j in range(bc): \n",
    "            #c[i,j] = (a[i,:] * b[:,j]).sum()      # previous version\n",
    "        c[i]   = (a[i,:,None] * b).sum(dim=0) # broadcast version\n",
    "    return c"
   ]
  },
  {
   "cell_type": "code",
   "execution_count": 281,
   "id": "229c8ba5-673e-44b7-961f-a5c7b5b17b4e",
   "metadata": {},
   "outputs": [
    {
     "name": "stdout",
     "output_type": "stream",
     "text": [
      "417 µs ± 84.1 µs per loop (mean ± std. dev. of 7 runs, 50 loops each)\n"
     ]
    }
   ],
   "source": [
    "%timeit -n 50 _=matmul(m1, m2)"
   ]
  },
  {
   "cell_type": "code",
   "execution_count": 282,
   "id": "f34ef855-990f-458c-9b12-46978b0880f7",
   "metadata": {},
   "outputs": [
    {
     "data": {
      "text/plain": [
       "tensor([[  0.96,  -2.96,  -2.11,  ..., -15.09, -17.69,   0.60],\n",
       "        [  6.89,  -0.34,   0.79,  ..., -17.13, -25.36,  16.23],\n",
       "        [-10.18,   7.38,   4.13,  ...,  -6.73,  -6.79,  -1.58],\n",
       "        ...,\n",
       "        [  7.40,   7.64,  -3.50,  ...,  -1.02, -16.22,   2.07],\n",
       "        [  3.25,   9.52,  -9.37,  ...,   2.98, -19.58,  -1.96],\n",
       "        [ 15.70,   4.12,  -5.62,  ...,   8.08, -12.21,   0.42]])"
      ]
     },
     "execution_count": 282,
     "metadata": {},
     "output_type": "execute_result"
    }
   ],
   "source": [
    "tr = matmul(x_train, weights)\n",
    "tr"
   ]
  },
  {
   "cell_type": "code",
   "execution_count": 283,
   "id": "286e4fcc-8b92-4142-b14d-effc39cc196e",
   "metadata": {},
   "outputs": [
    {
     "data": {
      "text/plain": [
       "torch.Size([50000, 10])"
      ]
     },
     "execution_count": 283,
     "metadata": {},
     "output_type": "execute_result"
    }
   ],
   "source": [
    "tr.shape"
   ]
  },
  {
   "cell_type": "code",
   "execution_count": 284,
   "id": "2848d9aa-6124-4d86-aa98-9fb44cb66c6c",
   "metadata": {},
   "outputs": [
    {
     "name": "stdout",
     "output_type": "stream",
     "text": [
      "CPU times: total: 3.25 s\n",
      "Wall time: 2.98 s\n"
     ]
    }
   ],
   "source": [
    "%time _=matmul(x_train, weights)"
   ]
  },
  {
   "cell_type": "markdown",
   "id": "d9d3ed35-fdc6-421d-aa71-d1ef98c9e6e5",
   "metadata": {},
   "source": [
    "### Einstein summation"
   ]
  },
  {
   "cell_type": "code",
   "execution_count": 285,
   "id": "91ffe51b-144e-4f8a-ac9d-17eeaa20402f",
   "metadata": {},
   "outputs": [
    {
     "data": {
      "text/plain": [
       "(torch.Size([5, 784]), torch.Size([784, 10]))"
      ]
     },
     "execution_count": 285,
     "metadata": {},
     "output_type": "execute_result"
    }
   ],
   "source": [
    "m1.shape,m2.shape"
   ]
  },
  {
   "cell_type": "code",
   "execution_count": 286,
   "id": "e6925166-34a2-40be-b563-13b8b6746125",
   "metadata": {},
   "outputs": [
    {
     "data": {
      "text/plain": [
       "torch.Size([5, 784, 10])"
      ]
     },
     "execution_count": 286,
     "metadata": {},
     "output_type": "execute_result"
    }
   ],
   "source": [
    "# c[i,j] += a[i,k] * b[k,j]\n",
    "# c[i,j] = (a[i,:] * b[:,j]).sum()\n",
    "mr = torch.einsum('ik,kj->ikj', m1, m2)\n",
    "mr.shape"
   ]
  },
  {
   "cell_type": "code",
   "execution_count": 287,
   "id": "400c5c73-11ce-4a31-962f-21d3e1714bcd",
   "metadata": {},
   "outputs": [
    {
     "data": {
      "text/plain": [
       "tensor([[-10.94,  -0.68,  -7.00,  -4.01,  -2.09,  -3.36,   3.91,  -3.44, -11.47,  -2.12],\n",
       "        [ 14.54,   6.00,   2.89,  -4.08,   6.59, -14.74,  -9.28,   2.16, -15.28,  -2.68],\n",
       "        [  2.22,  -3.22,  -4.80,  -6.05,  14.17,  -8.98,  -4.79,  -5.44, -20.68,  13.57],\n",
       "        [ -6.71,   8.90,  -7.46,  -7.90,   2.70,  -4.73, -11.03, -12.98,  -6.44,   3.64],\n",
       "        [ -2.44,  -6.40,  -2.40,  -9.04,  11.18,  -5.77,  -8.92,  -3.79,  -8.98,   5.28]])"
      ]
     },
     "execution_count": 287,
     "metadata": {},
     "output_type": "execute_result"
    }
   ],
   "source": [
    "mr.sum(1)"
   ]
  },
  {
   "cell_type": "code",
   "execution_count": 288,
   "id": "094928cd-cf74-410d-85a4-a477065a867f",
   "metadata": {},
   "outputs": [
    {
     "data": {
      "text/plain": [
       "tensor([[-10.94,  -0.68,  -7.00,  -4.01,  -2.09,  -3.36,   3.91,  -3.44, -11.47,  -2.12],\n",
       "        [ 14.54,   6.00,   2.89,  -4.08,   6.59, -14.74,  -9.28,   2.16, -15.28,  -2.68],\n",
       "        [  2.22,  -3.22,  -4.80,  -6.05,  14.17,  -8.98,  -4.79,  -5.44, -20.68,  13.57],\n",
       "        [ -6.71,   8.90,  -7.46,  -7.90,   2.70,  -4.73, -11.03, -12.98,  -6.44,   3.64],\n",
       "        [ -2.44,  -6.40,  -2.40,  -9.04,  11.18,  -5.77,  -8.92,  -3.79,  -8.98,   5.28]])"
      ]
     },
     "execution_count": 288,
     "metadata": {},
     "output_type": "execute_result"
    }
   ],
   "source": [
    "torch.einsum('ik,kj->ij', m1, m2)"
   ]
  },
  {
   "cell_type": "code",
   "execution_count": 289,
   "id": "ca8e8e36-baf5-453a-a09a-36ef16cb9a2d",
   "metadata": {},
   "outputs": [],
   "source": [
    "def matmul(a,b): return torch.einsum('ik,kj->ij', a, b)"
   ]
  },
  {
   "cell_type": "code",
   "execution_count": 290,
   "id": "c3edd291-fdbc-471f-9220-54a0838ba00c",
   "metadata": {},
   "outputs": [
    {
     "name": "stdout",
     "output_type": "stream",
     "text": [
      "11.9 ms ± 1.32 ms per loop (mean ± std. dev. of 7 runs, 5 loops each)\n"
     ]
    }
   ],
   "source": [
    "%timeit -n 5 _=matmul(x_train, weights)"
   ]
  },
  {
   "cell_type": "markdown",
   "id": "9f57c22c-ebd8-419d-8866-24a7d2d793d0",
   "metadata": {},
   "source": [
    "### pytorch op"
   ]
  },
  {
   "cell_type": "markdown",
   "id": "3d617dbe-1532-45b5-9557-89460676cb3c",
   "metadata": {},
   "source": [
    "We can use pytorch's function or operator directly for matrix multiplication"
   ]
  },
  {
   "cell_type": "code",
   "execution_count": 291,
   "id": "23f92a9f-8584-49db-ab14-a7c9617f9390",
   "metadata": {},
   "outputs": [
    {
     "name": "stdout",
     "output_type": "stream",
     "text": [
      "11.3 ms ± 1.16 ms per loop (mean ± std. dev. of 7 runs, 5 loops each)\n"
     ]
    }
   ],
   "source": [
    "%timeit -n 5 _=torch.matmul(x_train, weights)"
   ]
  },
  {
   "cell_type": "markdown",
   "id": "7281e20f-e7aa-4829-a77a-ffa3e8d02e08",
   "metadata": {},
   "source": [
    "### CUDA"
   ]
  },
  {
   "cell_type": "code",
   "execution_count": 292,
   "id": "5b4a4d02-acd3-40b2-9217-9604d4391ba4",
   "metadata": {},
   "outputs": [],
   "source": [
    "def matmul(grid, a,b,c):\n",
    "    i,j = grid\n",
    "    if i < c.shape[0] and j < c.shape[1]:\n",
    "        tmp = 0.\n",
    "        for k in range(a.shape[1]): tmp += a[i, k] * b[k, j]\n",
    "        c[i,j] = tmp"
   ]
  },
  {
   "cell_type": "markdown",
   "id": "b69d04d3-9ba0-410f-a10f-0b64beaf42ea",
   "metadata": {},
   "source": [
    "here's something that fills in one piece of the grid with output of matrix-multiplication, and we could do that in parallel because none of those different locations interact with any other location."
   ]
  },
  {
   "cell_type": "code",
   "execution_count": 293,
   "id": "74d5630c-3941-4b74-8cb9-2d3a2197a40e",
   "metadata": {},
   "outputs": [
    {
     "data": {
      "text/plain": [
       "tensor([[-10.94,   0.00,   0.00,   0.00,   0.00,   0.00,   0.00,   0.00,   0.00,   0.00],\n",
       "        [  0.00,   0.00,   0.00,   0.00,   0.00,   0.00,   0.00,   0.00,   0.00,   0.00],\n",
       "        [  0.00,   0.00,   0.00,   0.00,   0.00,   0.00,   0.00,   0.00,   0.00,   0.00],\n",
       "        [  0.00,   0.00,   0.00,   0.00,   0.00,   0.00,   0.00,   0.00,   0.00,   0.00],\n",
       "        [  0.00,   0.00,   0.00,   0.00,   0.00,   0.00,   0.00,   0.00,   0.00,   0.00]])"
      ]
     },
     "execution_count": 293,
     "metadata": {},
     "output_type": "execute_result"
    }
   ],
   "source": [
    "res = torch.zeros(ar, bc)\n",
    "matmul((0,0), m1, m2, res)\n",
    "res"
   ]
  }
 ],
 "metadata": {
  "kernelspec": {
   "display_name": "Python 3 (ipykernel)",
   "language": "python",
   "name": "python3"
  },
  "language_info": {
   "codemirror_mode": {
    "name": "ipython",
    "version": 3
   },
   "file_extension": ".py",
   "mimetype": "text/x-python",
   "name": "python",
   "nbconvert_exporter": "python",
   "pygments_lexer": "ipython3",
   "version": "3.11.4"
  }
 },
 "nbformat": 4,
 "nbformat_minor": 5
}
